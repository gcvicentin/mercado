{
 "cells": [
  {
   "cell_type": "code",
   "execution_count": null,
   "metadata": {},
   "outputs": [],
   "source": [
    "%pip install selenium"
   ]
  },
  {
   "cell_type": "code",
   "execution_count": null,
   "metadata": {},
   "outputs": [
    {
     "name": "stdout",
     "output_type": "stream",
     "text": [
      "['Talco Granado Bebê Frasco 100g', 'Bebida Mista Malibu Garrafa 750ml', 'Bebida Maguary Maracujá Tetra Pack 1000ml', 'Bebida Xandô Limão Siciliano Garrafa 900ml', 'Bebida Bioleve Uva e Maçã Pet 390ml', 'Bebida Láctea Nescafé Chococino Garrafa 270ml', 'Lava Roupas Ola Bebê Frasco 1000ml', 'Bebida Mista Beats Capirinha Garrafa 269ml', 'Shampoo Granado Bebê Lavanda Frasco 250ml', 'Sabonete Granado Bebê Glicerina Caixa 90g', 'Bebida Bioleve Frutas Cítricas Pet 390ml', 'Shampoo Granado Bebê Tradicional Frasco 250ml', 'Bebida Pronta Nestlé Alpino Garrafa 280ml', 'Bebida Pronta Nescafé Smoovlatte Garrafa 270ml', 'Condicionador Granado Bebê Lavanda Frasco 250ml', 'Condicionador Granado Bebê Tradicional Frasco 250ml', 'Bebida Bioleve Acerola e Laranja Pet 390ml', 'Shampoo Granado Bebê Camomila Frasco 250ml', 'Bebida Mista Xeque Mate Lata 355ml', 'Bebida Bioleve Limonada Suiça Pet 390ml', 'Bebida Bioleve Abacaxi e Hortelã Pet 390ml', 'Condicionador Granado Bebê Camomila Frasco 250ml', 'Bebida Láctea Nescafé Latte Garrafa 270ml', 'Bebida Maguary Morango Tetra Pack 200ml', 'Bebida Maguary Maracujá Tetra Pack 200ml', 'Bebida Mista Tanqueray Tonic Lata 269ml', 'Colônia Granado Bebê Tradicional Frasco 100ml', 'Bebida Xandô Limão Siciliano Garrafa 300ml', 'Bebida Mista Beats Senses Garrafa 269ml', 'Bebida Mista Beats Gt Lata 269ml', 'Bebida Mista Beats Tropical Garrafa 269ml', 'Bebida Mista 51 Ice Kiwi Garrafa 275ml', 'Bebida Láctea Itambé Polpa Coco Bandeja 540g', 'Bebida Pronta Nestlé Nescau sem Glúten Garrafa 270ml', 'Bebida Mista Roskoff Ice Limão Garrafa 275ml', 'Bebida Mista Vig Laranja Tetra Pack 200ml', 'Bebida Láctea Toddynho Chocolate Tetra Pack 200ml', 'Bebida Láctea Lider Vita Tetra Pack 1000ml', 'Boneca Roma New Mini Bebê Mania Peça', 'Bebida Láctea Lider Aveia Tetra Pack 1000ml', 'Sabonete Granado Bebê Glicerina Camomila Caixa 90g', 'Bebida Láctea Nesquik Morango Tetra Pack 180ml', 'Bebida Láctea Danone Polpa Morango Bandeja 510g', 'Bebida Del Valle Frut Uva Pet 1000ml', 'Bebida Láctea Itambé Vitamina Tetra Pack 1000ml', 'Bebida Gaseificada Cereser Maçã sem Álcool Garrafa 660ml', 'Sabonete Granado Bebê Glicerina Lavanda Caixa 90g', 'Bebida Mista 51 Ice Balada Garrafa 275ml'] ['R$ 16,98', 'R$ 77,90', 'R$ 5,98', 'R$ 12,89', 'R$ 2,29', 'R$ 7,98', 'R$ 21,98', 'R$ 7,99', 'R$ 16,40', 'R$ 6,98', 'R$ 2,29', 'R$ 16,40', 'R$ 6,50', 'R$ 6,50', 'R$ 22,79', 'R$ 22,79', 'R$ 2,29', 'R$ 16,40', 'R$ 8,98', 'R$ 2,29', 'R$ 2,29', 'R$ 22,79', 'R$ 7,98', 'R$ 1,98', 'R$ 1,98', 'R$ 15,90', 'R$ 84,99', 'R$ 5,49', 'R$ 7,99', 'R$ 4,98', 'R$ 7,99', 'R$ 5,87', 'R$ 6,47', 'R$ 6,50', 'R$ 5,49', 'R$ 2,19', 'R$ 3,19', 'R$ 6,98', 'R$ 79,90', 'R$ 6,98', 'R$ 6,98', 'R$ 2,39', 'R$ 8,97', 'R$ 5,19', 'R$ 8,98', 'R$ 16,90', 'R$ 6,98', 'R$ 5,87']\n"
     ]
    }
   ],
   "source": [
    "from selenium import webdriver\n",
    "from selenium.webdriver.chrome.service import Service as ChromeService\n",
    "from webdriver_manager.chrome import ChromeDriverManager\n",
    "from selenium.webdriver.common.by import By\n",
    "from selenium.webdriver.chrome.options import Options\n",
    "from selenium.webdriver.common.keys import Keys\n",
    "import time\n",
    "\n",
    "driver = webdriver.Chrome(service=ChromeService(ChromeDriverManager().install()))\n",
    "\n",
    "options = Options()\n",
    "\n",
    "options.page_load_strategy = 'normal'\n",
    "driver = webdriver.Chrome(options=options)\n",
    "driver.get(\"https://www.tauste.com.br\")\n",
    "driver.maximize_window()\n",
    "\n",
    "time.sleep(5) # TODO: Change to wait for element\n",
    "\n",
    "\n",
    "#INSERE O CEP E CLICA EM OK\n",
    "\n",
    "driver.find_element(By.ID, \"zipcode\").send_keys(\"17519-430\")\n",
    "driver.find_element(By.XPATH, \"//*[@id='form-validate-zipcode']/div[2]/div/button/span\").click()\n",
    "\n",
    "\n",
    "time.sleep(5)  # Wait for the page to load # TODO: Change to wait for element\n",
    "\n",
    "# SELECIONA BARRA DE PESQUISA, INSERE BEBIDAS E DÁ ENTER\n",
    "\n",
    "search_box = driver.find_element(By.ID, \"search\")\n",
    "search_box.send_keys(\"Bebidas\" + Keys.ENTER)\n",
    "\n",
    "# TODO: CLOSE ALERT\n",
    "\n",
    "time.sleep(5)  # Wait for the page to load # TODO: Change to wait for element\n",
    "\n",
    "\n",
    "#BUSCA NOMES E PREÇOS DOS PRODUTOS E CRIA LISTAS meus_produtos e meus_preços\n",
    "\n",
    "produtos = driver.find_elements(By.XPATH, '//*[@id=\"maincontent\"]/div[3]/div[1]/div[2]/div[2]/ol/li/div/div[2]/strong/a')\n",
    "\n",
    "\n",
    "meus_produtos = []\n",
    "meus_preços = []\n",
    "\n",
    "for produto in produtos:\n",
    "    produto = produto.text\n",
    "    meus_produtos.append(produto)\n",
    "    \n",
    "preços = driver.find_elements(By.XPATH, '/html/body/div[3]/main/div[3]/div[1]/div[2]/div[2]/ol/li/div/div[2]/div[1]/span/span/span')\n",
    "\n",
    "for preco in preços:\n",
    "    preco = preco.text\n",
    "    meus_preços.append(preco)\n",
    "    \n",
    "\n",
    "print(meus_produtos, meus_preços)\n",
    "\n",
    "# driver.quit()"
   ]
  },
  {
   "cell_type": "code",
   "execution_count": 18,
   "metadata": {},
   "outputs": [
    {
     "name": "stdout",
     "output_type": "stream",
     "text": [
      "48\n",
      "48\n"
     ]
    }
   ],
   "source": [
    "print(len(meus_produtos))\n",
    "print(len(meus_preços))"
   ]
  },
  {
   "cell_type": "code",
   "execution_count": null,
   "metadata": {},
   "outputs": [],
   "source": [
    "%pip install pandas\n",
    "%pip install openpyxl\n"
   ]
  },
  {
   "cell_type": "code",
   "execution_count": 19,
   "metadata": {},
   "outputs": [],
   "source": [
    "import pandas as pd\n",
    "\n",
    "tauste = {\n",
    "    \"Produto\": meus_produtos,\n",
    "    \"Preço\": meus_preços\n",
    "}\n",
    "\n",
    "df = pd.DataFrame(tauste)\n",
    "\n",
    "tauste = \"tauste.xlsx\"\n",
    "\n",
    "df.to_excel(tauste, index=False)"
   ]
  }
 ],
 "metadata": {
  "kernelspec": {
   "display_name": "Python 3",
   "language": "python",
   "name": "python3"
  },
  "language_info": {
   "codemirror_mode": {
    "name": "ipython",
    "version": 3
   },
   "file_extension": ".py",
   "mimetype": "text/x-python",
   "name": "python",
   "nbconvert_exporter": "python",
   "pygments_lexer": "ipython3",
   "version": "3.10.15"
  }
 },
 "nbformat": 4,
 "nbformat_minor": 2
}

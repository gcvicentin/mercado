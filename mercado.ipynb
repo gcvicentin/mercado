{
 "cells": [
  {
   "cell_type": "code",
   "execution_count": 1,
   "metadata": {},
   "outputs": [
    {
     "name": "stdout",
     "output_type": "stream",
     "text": [
      "Requirement already satisfied: selenium in /home/gcv/.pyenv/versions/3.10.15/lib/python3.10/site-packages (4.26.1)\n",
      "Requirement already satisfied: typing_extensions~=4.9 in /home/gcv/.pyenv/versions/3.10.15/lib/python3.10/site-packages (from selenium) (4.12.2)\n",
      "Requirement already satisfied: websocket-client~=1.8 in /home/gcv/.pyenv/versions/3.10.15/lib/python3.10/site-packages (from selenium) (1.8.0)\n",
      "Requirement already satisfied: trio-websocket~=0.9 in /home/gcv/.pyenv/versions/3.10.15/lib/python3.10/site-packages (from selenium) (0.11.1)\n",
      "Requirement already satisfied: trio~=0.17 in /home/gcv/.pyenv/versions/3.10.15/lib/python3.10/site-packages (from selenium) (0.27.0)\n",
      "Requirement already satisfied: urllib3[socks]<3,>=1.26 in /home/gcv/.pyenv/versions/3.10.15/lib/python3.10/site-packages (from selenium) (2.2.3)\n",
      "Requirement already satisfied: certifi>=2021.10.8 in /home/gcv/.pyenv/versions/3.10.15/lib/python3.10/site-packages (from selenium) (2024.8.30)\n",
      "Requirement already satisfied: sniffio>=1.3.0 in /home/gcv/.pyenv/versions/3.10.15/lib/python3.10/site-packages (from trio~=0.17->selenium) (1.3.1)\n",
      "Requirement already satisfied: attrs>=23.2.0 in /home/gcv/.pyenv/versions/3.10.15/lib/python3.10/site-packages (from trio~=0.17->selenium) (24.2.0)\n",
      "Requirement already satisfied: idna in /home/gcv/.pyenv/versions/3.10.15/lib/python3.10/site-packages (from trio~=0.17->selenium) (3.10)\n",
      "Requirement already satisfied: exceptiongroup in /home/gcv/.pyenv/versions/3.10.15/lib/python3.10/site-packages (from trio~=0.17->selenium) (1.2.2)\n",
      "Requirement already satisfied: sortedcontainers in /home/gcv/.pyenv/versions/3.10.15/lib/python3.10/site-packages (from trio~=0.17->selenium) (2.4.0)\n",
      "Requirement already satisfied: outcome in /home/gcv/.pyenv/versions/3.10.15/lib/python3.10/site-packages (from trio~=0.17->selenium) (1.3.0.post0)\n",
      "Requirement already satisfied: wsproto>=0.14 in /home/gcv/.pyenv/versions/3.10.15/lib/python3.10/site-packages (from trio-websocket~=0.9->selenium) (1.2.0)\n",
      "Requirement already satisfied: pysocks!=1.5.7,<2.0,>=1.5.6 in /home/gcv/.pyenv/versions/3.10.15/lib/python3.10/site-packages (from urllib3[socks]<3,>=1.26->selenium) (1.7.1)\n",
      "Requirement already satisfied: h11<1,>=0.9.0 in /home/gcv/.pyenv/versions/3.10.15/lib/python3.10/site-packages (from wsproto>=0.14->trio-websocket~=0.9->selenium) (0.14.0)\n",
      "\n",
      "\u001b[1m[\u001b[0m\u001b[34;49mnotice\u001b[0m\u001b[1;39;49m]\u001b[0m\u001b[39;49m A new release of pip is available: \u001b[0m\u001b[31;49m23.0.1\u001b[0m\u001b[39;49m -> \u001b[0m\u001b[32;49m25.0.1\u001b[0m\n",
      "\u001b[1m[\u001b[0m\u001b[34;49mnotice\u001b[0m\u001b[1;39;49m]\u001b[0m\u001b[39;49m To update, run: \u001b[0m\u001b[32;49mpip install --upgrade pip\u001b[0m\n",
      "Note: you may need to restart the kernel to use updated packages.\n"
     ]
    }
   ],
   "source": [
    "%pip install selenium"
   ]
  },
  {
   "cell_type": "code",
   "execution_count": 1,
   "metadata": {},
   "outputs": [
    {
     "name": "stdout",
     "output_type": "stream",
     "text": [
      "['Água Mineral sem Gás Frescca 510ml', 'Refrigerante Coca-Cola Sem Açúcar Pet 200ml', 'Água Mineral Cristal Select com Gás 500ml', 'Refrigerante Coca-Cola Pet 200ml', 'Refrigerante Guaraná Antarctica Zero Garrafa 200ML', 'Refrigerante Guaraná Antarctica 200ML Garrafa Pet', 'Água Mineral sem Gás Frescca 1,5 Litros', 'Refrigerante Coca-Cola Sem Açúcar 2 Litros', 'Suco de Maçã Yakult 200ml', 'Refrigerante Coca-Cola Sem Açúcar 1,5 litros', 'Refrigerante Coca-Cola Sem Açúcar Lata 220ml', 'Cerveja Budweiser American Lager 350ml Lata', 'Refrigerante Coca-Cola Sem Açúcar Lata 350ml', 'Água Mineral com Gás Prata 510ml', 'Água Mineral Frescca com Gás 1,5L', 'Água Mineral com Gás Crystal 500ml', 'Suco de Uva Del Valle Kapo 200ml', 'Bebida Maguary Fruit Shoot 100% Suco Uva TP 150ml', 'Refrigerante Coca Cola Original 2L', 'Cerveja Petra Puro Malte 350ml', 'Refrigerante Coca-Cola Sem Açúcar 1 Litro', 'Refrigerante Coca-Cola Sem Açúcar 600ml', 'Refrigerante Coca-Cola Lata 220ml', 'Cerveja Amstel Puro Malte Lata 350ml', 'Cerveja Heineken Premium Long Neck 330ml', 'Refrigerante Guaraná Antarctica Sem Açúcar 350ml Lata', 'Água Mineral Natural Prata Sem Gás 370Ml', 'Cerveja Original Pilsen 350ml', 'Água Mineral Cristal Select sem Gás 500ml', 'Refrigerante Coca-Cola 600ml', 'Água Mineral Prata Com Gás 370Ml', 'Refrigerante Pepsi Black Cola Zero 2 Litros', 'Cerveja Budweiser Zero Álcool Lata 350ml', 'Suco Maguary Fruit Shoot 100% Maçã 150ml', 'Água Mineral sem Gás Prata 510ml', 'Água Mineral Sferriê com Gás 510ml', 'Suco de Morango Del Valle Kapo 200ml', 'Cerveja Stella Artois Pure Gold Sem Glúten Long Neck 330ml', 'Refrigerante Sprite Lemon Fresh 510ml'] ['R$ 1,09', 'R$ 1,69', 'R$ 1,69', 'R$ 1,69', 'R$ 1,29', 'R$ 1,29', 'R$ 2,29', 'R$ 10,29', 'R$ 2,97', 'R$ 8,29', 'R$ 2,69', 'R$ 3,59', 'R$ 3,69', 'R$ 2,39', 'R$ 2,39', 'R$ 2,59', 'R$ 2,35', 'R$ 2,18', 'R$ 10,29', 'R$ 3,29', 'R$ 6,39', 'R$ 4,79', 'R$ 2,69', 'R$ 3,99', 'R$ 5,98', 'R$ 3,19', 'R$ 2,39', 'R$ 4,49', 'R$ 1,29', 'R$ 4,79', 'R$ 2,89', 'R$ 8,45', 'R$ 3,59', 'R$ 2,18', 'R$ 2,59', 'R$ 1,98', 'R$ 2,35', 'R$ 5,59', 'R$ 3,19']\n"
     ]
    }
   ],
   "source": [
    "from selenium import webdriver\n",
    "from selenium.webdriver.chrome.service import Service as ChromeService\n",
    "from webdriver_manager.chrome import ChromeDriverManager\n",
    "from selenium.webdriver.common.by import By\n",
    "from selenium.webdriver.chrome.options import Options\n",
    "import time\n",
    "\n",
    "driver = webdriver.Chrome(service=ChromeService(ChromeDriverManager().install()))\n",
    "\n",
    "options = Options()\n",
    "\n",
    "options.page_load_strategy = 'normal'\n",
    "driver = webdriver.Chrome(options=options)\n",
    "driver.get(\"https://www.confianca.com.br\")\n",
    "driver.maximize_window()\n",
    "\n",
    "time.sleep(5) # TODO: Change to wait for element\n",
    "\n",
    "\n",
    "#FECHA A TELA BEM VINDO\n",
    "\n",
    "driver.find_element(By.CSS_SELECTOR, \"#root > header > section > div.modal > div > div > div.modal__close__welcome > img\").click()\n",
    "\n",
    "\n",
    "time.sleep(10)  # Wait for the page to load # TODO: Change to wait for element\n",
    "\n",
    "\n",
    "#CLICA EM BEBIDAS\n",
    "\n",
    "driver.find_element(By.XPATH, \"//span[text()='Bebidas']\").click()\n",
    "\n",
    "time.sleep(5)  # Wait for the page to load\n",
    "\n",
    "\n",
    "#FECHA A TELA BEM VINDO\n",
    "\n",
    "driver.find_element(By.CSS_SELECTOR, \"#root > header > section > div.modal > div > div > div.modal__close__welcome > img\").click()\n",
    "\n",
    "\n",
    "time.sleep(15)  # Wait for the page to load # TODO: Change to wait for element\n",
    "\n",
    "\n",
    "#BUSCA NOMES E PREÇOS DOS PRODUTOS E CRIA LISTAS meus_produtos e meus_preços\n",
    "# TODO: FAZER UM SCROLL DOWN PARA CARREGAR TODOS OS PRODUTOS\n",
    "\n",
    "produtos = driver.find_elements(By.TAG_NAME, \"h3\")\n",
    "\n",
    "meus_produtos = []\n",
    "meus_preços = []\n",
    "\n",
    "for produto in produtos:\n",
    "    produto = produto.text\n",
    "    meus_produtos.append(produto)\n",
    "    \n",
    "preços = driver.find_elements(By.CLASS_NAME, \"product-shelf__price-current\")\n",
    "\n",
    "for preco in preços:\n",
    "    preco = preco.text\n",
    "    meus_preços.append(preco)\n",
    "    \n",
    "\n",
    "print(meus_produtos, meus_preços)\n",
    "\n",
    "driver.quit()"
   ]
  },
  {
   "cell_type": "code",
   "execution_count": null,
   "metadata": {},
   "outputs": [],
   "source": [
    "%pip install pandas\n",
    "%pip install openpyxl\n"
   ]
  },
  {
   "cell_type": "code",
   "execution_count": 3,
   "metadata": {},
   "outputs": [],
   "source": [
    "import pandas as pd\n",
    "\n",
    "confiança = {\n",
    "    \"Produto\": meus_produtos,\n",
    "    \"Preço\": meus_preços\n",
    "}\n",
    "\n",
    "df = pd.DataFrame(confiança)\n",
    "\n",
    "confiança = \"confiança.xlsx\"\n",
    "\n",
    "df.to_excel(confiança, index=False)"
   ]
  }
 ],
 "metadata": {
  "kernelspec": {
   "display_name": "Python 3",
   "language": "python",
   "name": "python3"
  },
  "language_info": {
   "codemirror_mode": {
    "name": "ipython",
    "version": 3
   },
   "file_extension": ".py",
   "mimetype": "text/x-python",
   "name": "python",
   "nbconvert_exporter": "python",
   "pygments_lexer": "ipython3",
   "version": "3.10.15"
  }
 },
 "nbformat": 4,
 "nbformat_minor": 2
}

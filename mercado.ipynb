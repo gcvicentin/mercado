{
 "cells": [
  {
   "cell_type": "code",
   "execution_count": null,
   "metadata": {},
   "outputs": [],
   "source": [
    "%pip install selenium"
   ]
  },
  {
   "cell_type": "code",
   "execution_count": null,
   "metadata": {},
   "outputs": [],
   "source": [
    "from selenium import webdriver\n",
    "from selenium.webdriver.chrome.service import Service as ChromeService\n",
    "from webdriver_manager.chrome import ChromeDriverManager\n",
    "from selenium.webdriver.common.by import By\n",
    "from selenium.webdriver.chrome.options import Options\n",
    "import time\n",
    "\n",
    "driver = webdriver.Chrome(service=ChromeService(ChromeDriverManager().install()))\n",
    "\n",
    "options = Options()\n",
    "\n",
    "options.page_load_strategy = 'normal'\n",
    "driver = webdriver.Chrome(options=options)\n",
    "driver.get(\"https://www.confianca.com.br\")\n",
    "driver.maximize_window()\n",
    "\n",
    "time.sleep(5)  # Wait for the page to load\n",
    "\n",
    "\n",
    "#FECHA A TELA BEM VINDO\n",
    "\n",
    "driver.find_element(By.CSS_SELECTOR, \"#root > header > section > div.modal > div > div > div.modal__close__welcome > img\").click()\n",
    "\n",
    "\n",
    "time.sleep(10)  # Wait for the page to load\n",
    "\n",
    "\n",
    "#CLICA EM BEBIDAS\n",
    "\n",
    "driver.find_element(By.CSS_SELECTOR, \"#header > div > div:nth-child(2) > div > nav > div:nth-child(7) > a\").click()\n",
    "\n",
    "time.sleep(5)  # Wait for the page to load\n",
    "\n",
    "\n",
    "#FECHA A TELA BEM VINDO\n",
    "\n",
    "driver.find_element(By.CSS_SELECTOR, \"#root > header > section > div.modal > div > div > div.modal__close__welcome > img\").click()\n",
    "\n",
    "\n",
    "time.sleep(15)  # Wait for the page to load\n",
    "\n",
    "\n",
    "#BUSCA NOMES E PREÇOS DOS PRODUTOS E CRIA LISTAS meus_produtos e meus_preços\n",
    "\n",
    "produtos = driver.find_elements(By.TAG_NAME, \"h3\")\n",
    "\n",
    "meus_produtos = []\n",
    "meus_preços = []\n",
    "\n",
    "for produto in produtos:\n",
    "    produto = produto.text\n",
    "    meus_produtos.append(produto)\n",
    "    \n",
    "preços = driver.find_elements(By.CLASS_NAME, \"product-shelf__price-current\")\n",
    "\n",
    "for preco in preços:\n",
    "    preco = preco.text\n",
    "    meus_preços.append(preco)\n",
    "    \n",
    "\n",
    "print(meus_produtos, meus_preços)\n",
    "\n",
    "driver.quit()"
   ]
  },
  {
   "cell_type": "code",
   "execution_count": null,
   "metadata": {},
   "outputs": [],
   "source": [
    "%pip install pandas\n",
    "%pip install openpyxl\n"
   ]
  },
  {
   "cell_type": "code",
   "execution_count": null,
   "metadata": {},
   "outputs": [],
   "source": [
    "import pandas as pd\n",
    "\n",
    "confiança = {\n",
    "    \"Produto\": meus_produtos,\n",
    "    \"Preço\": meus_preços\n",
    "}\n",
    "\n",
    "df = pd.DataFrame(confiança)\n",
    "\n",
    "print(df)\n",
    "\n",
    "confiança = \"confiança.xlsx\"\n",
    "\n",
    "df.to_excel(confiança, index=False)"
   ]
  }
 ],
 "metadata": {
  "kernelspec": {
   "display_name": "Python 3",
   "language": "python",
   "name": "python3"
  },
  "language_info": {
   "codemirror_mode": {
    "name": "ipython",
    "version": 3
   },
   "file_extension": ".py",
   "mimetype": "text/x-python",
   "name": "python",
   "nbconvert_exporter": "python",
   "pygments_lexer": "ipython3",
   "version": "3.10.15"
  }
 },
 "nbformat": 4,
 "nbformat_minor": 2
}
